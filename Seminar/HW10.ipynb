{
 "cells": [
  {
   "cell_type": "markdown",
   "metadata": {},
   "source": [
    "1. Провести дисперсионный анализ для определения того, есть ли различия среднего роста среди взрослых футболистов, хоккеистов и штангистов. Даны значения роста в трех группах случайно выбранных спортсменов:  \n",
    "Футболисты: 173, 175, 180, 178, 177, 185, 183, 182.  \n",
    "Хоккеисты:  177, 179, 180, 188, 177, 172, 171, 184, 180.  \n",
    "Штангисты:  172, 173, 169, 177, 166, 180, 178, 177, 172, 166, 170.  "
   ]
  },
  {
   "cell_type": "code",
   "execution_count": 3,
   "metadata": {},
   "outputs": [
    {
     "name": "stdout",
     "output_type": "stream",
     "text": [
      "нормальность распределения футболисты ShapiroResult(statistic=0.9775082468986511, pvalue=0.9495404362678528)\n",
      "нормальность распределения хоккеисты ShapiroResult(statistic=0.9579196572303772, pvalue=0.7763139009475708)\n",
      "нормальность распределения штангисты ShapiroResult(statistic=0.9386808276176453, pvalue=0.5051165223121643)\n"
     ]
    }
   ],
   "source": [
    "import numpy as np\n",
    "from scipy import stats\n",
    "\n",
    "football = np.array([173, 175, 180, 178, 177, 185, 183, 182])\n",
    "hockey = np.array([177, 179, 180, 188, 177, 172, 171, 184, 180])\n",
    "barbell = np.array([172, 173, 169, 177, 166, 180, 178, 177, 172, 166, 170])\n",
    "\n",
    "print(\"нормальность распределения футболисты\", stats.shapiro(football))\n",
    "print(\"нормальность распределения хоккеисты\", stats.shapiro(hockey))\n",
    "print(\"нормальность распределения штангисты\", stats.shapiro(barbell))"
   ]
  },
  {
   "cell_type": "markdown",
   "metadata": {},
   "source": [
    "p-value для всех выборок больше альфы 5%. принимаем, что данные распределены нормально."
   ]
  },
  {
   "cell_type": "code",
   "execution_count": 4,
   "metadata": {},
   "outputs": [
    {
     "name": "stdout",
     "output_type": "stream",
     "text": [
      "равенство дисперсии BartlettResult(statistic=0.4640521043406442, pvalue=0.7929254656083131)\n"
     ]
    }
   ],
   "source": [
    "print(\"равенство дисперсии\", stats.bartlett(football, hockey, barbell))"
   ]
  },
  {
   "cell_type": "markdown",
   "metadata": {},
   "source": [
    "p-value для всех выборок больше альфы 5%. принимаем, что данные дисперсии равны."
   ]
  },
  {
   "cell_type": "code",
   "execution_count": 5,
   "metadata": {},
   "outputs": [
    {
     "name": "stdout",
     "output_type": "stream",
     "text": [
      "однофакторный дисперсионный анализ F_onewayResult(statistic=5.500053450812596, pvalue=0.010482206918698693)\n"
     ]
    }
   ],
   "source": [
    "print(\"однофакторный дисперсионный анализ\", stats.f_oneway(football, hockey, barbell))"
   ]
  },
  {
   "cell_type": "markdown",
   "metadata": {},
   "source": [
    "p-value на уровне статистической значимости альфы 5%. Потому отвергаем нулевую гипотезу.  \n",
    "Различия среднего роста среди взрослых футболистов, хоккеистов и штангистов есть."
   ]
  }
 ],
 "metadata": {
  "kernelspec": {
   "display_name": "Python 3.11.2 64-bit",
   "language": "python",
   "name": "python3"
  },
  "language_info": {
   "codemirror_mode": {
    "name": "ipython",
    "version": 3
   },
   "file_extension": ".py",
   "mimetype": "text/x-python",
   "name": "python",
   "nbconvert_exporter": "python",
   "pygments_lexer": "ipython3",
   "version": "3.11.2"
  },
  "orig_nbformat": 4,
  "vscode": {
   "interpreter": {
    "hash": "5238573367df39f7286bb46f9ff5f08f63a01a80960060ce41e3c79b190280fa"
   }
  }
 },
 "nbformat": 4,
 "nbformat_minor": 2
}
