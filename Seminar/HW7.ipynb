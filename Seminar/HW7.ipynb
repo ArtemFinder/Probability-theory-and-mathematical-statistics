{
 "cells": [
  {
   "cell_type": "markdown",
   "metadata": {},
   "source": [
    "1.  Даны две  независимые выборки. Не соблюдается условие нормальности  \n",
    "x1  380,420, 290  \n",
    "y1 140,360,200,900  \n",
    "Сделайте вывод по результатам, полученным с помощью функции"
   ]
  },
  {
   "cell_type": "code",
   "execution_count": 7,
   "metadata": {},
   "outputs": [
    {
     "data": {
      "text/plain": [
       "MannwhitneyuResult(statistic=8.0, pvalue=0.6285714285714286)"
      ]
     },
     "execution_count": 7,
     "metadata": {},
     "output_type": "execute_result"
    }
   ],
   "source": [
    "import numpy as np\n",
    "from scipy import stats\n",
    "import matplotlib.pyplot as plt\n",
    "\n",
    "x = np.array([380, 420, 290])\n",
    "y = np.array([140, 360, 200, 900])\n",
    "stats.mannwhitneyu(x,y)"
   ]
  },
  {
   "cell_type": "markdown",
   "metadata": {},
   "source": [
    "Cтатистически значимых различий нет"
   ]
  },
  {
   "cell_type": "markdown",
   "metadata": {},
   "source": [
    "2. Исследовалось влияние препарата на уровень давления пациентов. Сначала измерялось давление до приема препарата, потом через 10 минут и через 30 минут. Есть ли статистически значимые различия?  \n",
    "1е измерение до приема препарата: 150, 160, 165, 145, 155  \n",
    "2е измерение через 10 минут: 140, 155, 150,  130, 135  \n",
    "3е измерение через 30 минут: 130, 130, 120, 130, 125"
   ]
  },
  {
   "cell_type": "code",
   "execution_count": 6,
   "metadata": {},
   "outputs": [
    {
     "data": {
      "text/plain": [
       "FriedmanchisquareResult(statistic=9.578947368421062, pvalue=0.00831683351100441)"
      ]
     },
     "execution_count": 6,
     "metadata": {},
     "output_type": "execute_result"
    }
   ],
   "source": [
    "a = np.array([150, 160, 165, 145, 155])\n",
    "b = np.array([140, 155, 150, 130, 135])\n",
    "c = np.array([130, 130, 120, 130, 125])\n",
    "stats.friedmanchisquare(a, b, c)"
   ]
  },
  {
   "cell_type": "markdown",
   "metadata": {},
   "source": [
    "Cтатистически значимые различия есть, препарат влияет на давление."
   ]
  },
  {
   "cell_type": "markdown",
   "metadata": {},
   "source": [
    "3. Сравните 1 и 2 е измерения, предполагая, что 3го измерения через 30 минут не было."
   ]
  },
  {
   "cell_type": "code",
   "execution_count": 11,
   "metadata": {},
   "outputs": [
    {
     "data": {
      "text/plain": [
       "WilcoxonResult(statistic=0.0, pvalue=0.0625)"
      ]
     },
     "execution_count": 11,
     "metadata": {},
     "output_type": "execute_result"
    }
   ],
   "source": [
    "a = np.array([150, 160, 165, 145, 155])\n",
    "b = np.array([140, 155, 150, 130, 135])\n",
    "stats.wilcoxon(a, b)"
   ]
  },
  {
   "cell_type": "markdown",
   "metadata": {},
   "source": [
    "Cтатистически значимых различий нет, препарат не влияет на давление."
   ]
  },
  {
   "cell_type": "markdown",
   "metadata": {},
   "source": [
    "4. Даны 3 группы  учеников плавания. В 1 группе время на дистанцию 50 м составляют:  \n",
    "56, 60, 62, 55, 71, 67, 59, 58, 64, 67  \n",
    "Вторая группа : 57, 58, 69, 48, 72, 70, 68, 71, 50, 53  \n",
    "Третья группа: 57, 67, 49, 48, 47, 55, 66, 51, 54  "
   ]
  },
  {
   "cell_type": "code",
   "execution_count": 12,
   "metadata": {},
   "outputs": [
    {
     "data": {
      "text/plain": [
       "KruskalResult(statistic=5.465564058257224, pvalue=0.06503809985904942)"
      ]
     },
     "execution_count": 12,
     "metadata": {},
     "output_type": "execute_result"
    }
   ],
   "source": [
    "A = np.array([56, 60, 62, 55, 71, 67, 59, 58, 64, 67])\n",
    "B = np.array([57, 58, 69, 48, 72, 70, 68, 71, 50, 53])\n",
    "C = np.array([57, 67, 49, 48, 47, 55, 66, 51, 54])\n",
    "stats.kruskal(A, B, C)"
   ]
  },
  {
   "cell_type": "markdown",
   "metadata": {},
   "source": [
    "Cтатистически значимых различий нет, время на дистанцию примерно одинаковое."
   ]
  },
  {
   "cell_type": "markdown",
   "metadata": {},
   "source": [
    "5. Заявляется, что партия изготавливается со средним арифметическим 2,5 см. Проверить данную гипотезу, если известно, что размеры изделий подчинены нормальному закону распределения. Объем выборки 10, уровень статистической значимости 5%  \n",
    "2.51, 2.35, 2.74, 2.56, 2.40, 2.36, 2.65, 2.7, 2.67, 2.34"
   ]
  },
  {
   "cell_type": "code",
   "execution_count": 13,
   "metadata": {},
   "outputs": [
    {
     "data": {
      "text/plain": [
       "(2.5279999999999996,\n",
       " 0.1572542173961923,\n",
       " 0.5630613661802959,\n",
       " 1.8331129326536333)"
      ]
     },
     "execution_count": 13,
     "metadata": {},
     "output_type": "execute_result"
    }
   ],
   "source": [
    "A = [2.51, 2.35, 2.74, 2.56, 2.40, 2.36, 2.65, 2.7, 2.67, 2.34]\n",
    "n = len(A)\n",
    "mean = np.mean(A)\n",
    "std = np.std(A, ddof=1)\n",
    "t_stat = (mean - 2.5) / (std / np.sqrt(10))\n",
    "t_critical = stats.t.ppf(1 - 0.05, n-1)\n",
    "\n",
    "mean, std, t_stat, t_critical"
   ]
  },
  {
   "cell_type": "markdown",
   "metadata": {},
   "source": [
    "(t_stat < t_critical) Cтатистически значимых различий нет, партия изготавливается со средним арифметическим 2,5 см."
   ]
  }
 ],
 "metadata": {
  "kernelspec": {
   "display_name": "Python 3.11.2 64-bit",
   "language": "python",
   "name": "python3"
  },
  "language_info": {
   "codemirror_mode": {
    "name": "ipython",
    "version": 3
   },
   "file_extension": ".py",
   "mimetype": "text/x-python",
   "name": "python",
   "nbconvert_exporter": "python",
   "pygments_lexer": "ipython3",
   "version": "3.11.2"
  },
  "orig_nbformat": 4,
  "vscode": {
   "interpreter": {
    "hash": "5238573367df39f7286bb46f9ff5f08f63a01a80960060ce41e3c79b190280fa"
   }
  }
 },
 "nbformat": 4,
 "nbformat_minor": 2
}
