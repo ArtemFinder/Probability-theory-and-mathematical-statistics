{
 "cells": [
  {
   "cell_type": "markdown",
   "metadata": {},
   "source": [
    "1. Проведено 4 эксперимента. Для каждого построить график и посчитать коэффициенты корреляции Пирсона.  \n",
    "x = np.array([10,8, 13, 9,11,14, 6,4,12, 7,5])  \n",
    "y = np.array([8.04, 6.95, 7.58, 8.81, 8.33, 9.96, 7.24, 4.26, 10.84, 4.82, 5.68 ])  \n",
    "x= np.array([ 10,8, 13, 9,11,14, 6,4,12, 7,5 ])  \n",
    "y2 = np.array([ 9.14, 8.14, 8.74,8.77, 9.26, 8.10, 6.13, 3.10, 9.13, 7.26, 4.74])  \n",
    "x= np.array([ 10,8, 13, 9,11,14, 6,4,12, 7,5 ])  \n",
    "y3 = np.array([7.46,6.77, 12.74, 7.11, 7.81, 8.84, 6.08, 5.39, 8.15, 6.42, 5.73])  \n",
    "x4 = np.array([8, 8, 8, 8, 8, 8, 8, 19, 8, 8, 8])  \n",
    "y4 = np.array([6.58, 5.76, 7.71, 8.84, 8.47, 7.04, 5.25,12.5, 5.56, 7.91, 6.89])  \n",
    "x0= np.array([ 10, 8, 13, 9, 11, 14, 6, 4, 12, 7,5, 15, 16, 18 ])  \n",
    "y0 = np.array([ 9.14, 8.14, 8.74,8.77, 9.26, 8.10, 6.13, 3.10, 9.13, 7.26, 4.74, 6.5, 5, 2.9])  "
   ]
  },
  {
   "cell_type": "code",
   "execution_count": 1,
   "metadata": {},
   "outputs": [
    {
     "data": {
      "image/png": "[encoded data removed]",
      "text/plain": [
       "<Figure size 640x480 with 1 Axes>"
      ]
     },
     "metadata": {},
     "output_type": "display_data"
    }
   ],
   "source": [
    "import scipy.stats as stats\n",
    "import numpy as np\n",
    "import matplotlib.pyplot as plt\n",
    "\n",
    "a = np.array([10, 8, 13, 9, 11, 14, 6, 4, 12, 7, 5])\n",
    "b = np.array([8.04, 6.95, 7.58, 8.81, 8.33, 9.96, 7.24, 4.26, 10.84, 4.82, 5.68])\n",
    "r = np.corrcoef(a, b)[0, 1] #сильная линейная зависимость\n",
    "plt.scatter(a, b)\n",
    "plt.show()"
   ]
  },
  {
   "cell_type": "markdown",
   "metadata": {},
   "source": [
    "2. Провести двусторонний тест и ответить на вопрос, есть ли статистически значимые различия между средними 2х нормально распределенных генеральных совокупностей, представленных следующими независимыми выборками:  \n",
    "a = np.array([12, 10, 11, 19, 13, 11, 17, 15, 19, 14, 21, 18, 21, 11, 17, 14, 15, 17, 20, 19])  \n",
    "b = np.array([11, 13, 18, 15, 17, 18, 10, 21, 26, 15, 11, 12, 15, 17, 10, 18, 18, 12,21, 20])  \n",
    "Уровень статистической значимости принять за 5%  \n",
    "1. Используйте функцию в Python:  \n",
    "2. Имея p-value из функции рассчитать наблюдаемое значение критерия.  \n",
    "stats.ttest_ind(a, b, equal_var=True)"
   ]
  },
  {
   "cell_type": "code",
   "execution_count": 4,
   "metadata": {},
   "outputs": [
    {
     "data": {
      "text/plain": [
       "TtestResult(statistic=-0.1599663264228627, pvalue=0.8737549039369696, df=38.0)"
      ]
     },
     "execution_count": 4,
     "metadata": {},
     "output_type": "execute_result"
    }
   ],
   "source": [
    "a = np.array([12, 10, 11, 19, 13, 11, 17, 15, 19, 14, 21, 18, 21, 11, 17, 14, 15, 17, 20, 19])  \n",
    "b = np.array([11, 13, 18, 15, 17, 18, 10, 21, 26, 15, 11, 12, 15, 17, 10, 18, 18, 12,21, 20])  \n",
    "stats.ttest_ind(a, b, equal_var=True) # p-value > 5%, Принимаем нулевую гипотезу, статистически значимых различий нет"
   ]
  },
  {
   "cell_type": "markdown",
   "metadata": {},
   "source": [
    "3. Используя функцию stats.ttest_ind, проведите односторонний тест. Проверить ,что мю 1 > мю 2  \n",
    "stats.ttest_ind(a, b,alternative='greater', equal_var = True)"
   ]
  },
  {
   "cell_type": "code",
   "execution_count": 5,
   "metadata": {},
   "outputs": [
    {
     "data": {
      "text/plain": [
       "TtestResult(statistic=-0.1599663264228627, pvalue=0.5631225480315152, df=38.0)"
      ]
     },
     "execution_count": 5,
     "metadata": {},
     "output_type": "execute_result"
    }
   ],
   "source": [
    "a = np.array([12, 10, 11, 19, 13, 11, 17, 15, 19, 14, 21, 18, 21, 11, 17, 14, 15, 17, 20, 19])\n",
    "b = np.array([11, 13, 18, 15, 17, 18, 10, 21, 26, 15, 11, 12, 15, 17, 10, 18, 18, 12, 21, 20])\n",
    "stats.ttest_ind(a, b, alternative = 'greater')"
   ]
  },
  {
   "cell_type": "code",
   "execution_count": 6,
   "metadata": {},
   "outputs": [
    {
     "data": {
      "text/plain": [
       "TtestResult(statistic=-0.1599663264228627, pvalue=0.4368774519684848, df=38.0)"
      ]
     },
     "execution_count": 6,
     "metadata": {},
     "output_type": "execute_result"
    }
   ],
   "source": [
    "a = np.array([12, 10, 11, 19, 13, 11, 17, 15, 19, 14, 21, 18, 21, 11, 17, 14, 15, 17, 20, 19])\n",
    "b = np.array([11, 13, 18, 15, 17, 18, 10, 21, 26, 15, 11, 12, 15, 17, 10, 18, 18, 12, 21, 20])\n",
    "stats.ttest_ind(a, b, alternative='less')"
   ]
  },
  {
   "cell_type": "code",
   "execution_count": 7,
   "metadata": {},
   "outputs": [
    {
     "data": {
      "text/plain": [
       "TtestResult(statistic=-0.1599663264228627, pvalue=0.8737549039369696, df=38.0)"
      ]
     },
     "execution_count": 7,
     "metadata": {},
     "output_type": "execute_result"
    }
   ],
   "source": [
    "a = np.array([12, 10, 11, 19, 13, 11, 17, 15, 19, 14, 21, 18, 21, 11, 17, 14, 15, 17, 20, 19])\n",
    "b = np.array([11, 13, 18, 15, 17, 18, 10, 21, 26, 15, 11, 12, 15, 17, 10, 18, 18, 12, 21, 20])\n",
    "stats.ttest_ind(a, b, alternative='two-sided')"
   ]
  },
  {
   "cell_type": "markdown",
   "metadata": {},
   "source": [
    "4. Используя функцию stats.t.ppf найдите, расчетное значение Стьюдента. Определите табличное значение критерия Стьюдента"
   ]
  },
  {
   "cell_type": "code",
   "execution_count": 8,
   "metadata": {},
   "outputs": [
    {
     "data": {
      "text/plain": [
       "2.024394164575136"
      ]
     },
     "execution_count": 8,
     "metadata": {},
     "output_type": "execute_result"
    }
   ],
   "source": [
    "t_tabl = stats.t.ppf(0.975, len(a) + len(b) - 2)\n",
    "t_tabl"
   ]
  },
  {
   "cell_type": "code",
   "execution_count": 10,
   "metadata": {},
   "outputs": [
    {
     "data": {
      "image/png": "[encoded data removed]",
      "text/plain": [
       "<Figure size 640x480 with 1 Axes>"
      ]
     },
     "metadata": {},
     "output_type": "display_data"
    },
    {
     "name": "stdout",
     "output_type": "stream",
     "text": [
      "0.01847613077088317\n"
     ]
    }
   ],
   "source": [
    "r = np.corrcoef(a, b)[0, 1]  #\n",
    "plt.scatter(a, b)\n",
    "plt.show()\n",
    "print(r)"
   ]
  },
  {
   "cell_type": "markdown",
   "metadata": {},
   "source": [
    "6. Спортсмен стреляет по мишени, разделенной на три сектора. Вероятность попадания в 1й \n",
    "сектор = 0.4, во второй = 0.3. Какова вероятность попадания в 1 или 2й сектор?  \n",
    "Ответ: 0,7"
   ]
  },
  {
   "cell_type": "markdown",
   "metadata": {},
   "source": [
    "7. В группе 21 студент: 5 отличников, 10 хорошистов, 6 слабых. На предстоящем экзамене отлично могут получить только отличники, хорошисты с равной вероятностью могут получить хорошо и отлично, слабые –с одинаоквой вероятностью могут получить хорошо, удовлетворительно и неуд. На экзамен вызывается наугад 1 студент. Какова вероятность, что он получит хорошо или отлично?  \n",
    "Решение вручную в видео."
   ]
  },
  {
   "cell_type": "markdown",
   "metadata": {},
   "source": [
    "8. Некоторое изделие выпускается 2мя заводами. При этом объем продукции 2го завода в 3 раза превосходит объем продукции 1го. Доля брака у 1го -2%, у 2го -1%. Изделие выпущено заводами за одинаковый промежуток времени. Изделия перемешали и отправили в продажу. Какова вероятность, что приобретенное изделие со 2го завода, если оно бракованное?"
   ]
  },
  {
   "cell_type": "code",
   "execution_count": 12,
   "metadata": {},
   "outputs": [
    {
     "data": {
      "text/plain": [
       "0.6"
      ]
     },
     "execution_count": 12,
     "metadata": {},
     "output_type": "execute_result"
    }
   ],
   "source": [
    "# P(B / A) = P(A / B) * P(B) / P(A)\n",
    "# B - 2 завод, А - Брак\n",
    "# A / B - брак у второго завода\n",
    "P_AB = 0.01\n",
    "P_B = 0.75\n",
    "P_A = 0.75 * 0.01 + 0.25 * 0.02\n",
    "P_BA = P_AB * P_B / P_A\n",
    "P_BA # 60% вероятность"
   ]
  }
 ],
 "metadata": {
  "kernelspec": {
   "display_name": "Python 3.11.2 64-bit",
   "language": "python",
   "name": "python3"
  },
  "language_info": {
   "codemirror_mode": {
    "name": "ipython",
    "version": 3
   },
   "file_extension": ".py",
   "mimetype": "text/x-python",
   "name": "python",
   "nbconvert_exporter": "python",
   "pygments_lexer": "ipython3",
   "version": "3.11.2"
  },
  "orig_nbformat": 4,
  "vscode": {
   "interpreter": {
    "hash": "5238573367df39f7286bb46f9ff5f08f63a01a80960060ce41e3c79b190280fa"
   }
  }
 },
 "nbformat": 4,
 "nbformat_minor": 2
}
