{
 "cells": [
  {
   "cell_type": "markdown",
   "metadata": {},
   "source": [
    "2. Средние расходы на обследование одного больного до ознакомления с расходами коллег  \n",
    "X= np.array([20,17, 14, 42, 50, 62, 8, 49, 81, 54, 48, 55, 56])  \n",
    "Y= np.array ([20, 26, 1, 24, 1, 47, 15, 7, 65, 9, 21, 36, 30])  \n",
    "Средние расходы на лечение одного больного до ознакомления с расходами коллег  \n",
    "X= np.array([ 32, 41, 51, 29, 76, 47, 60, 58, 40, 64, 73, 66, 73])  \n",
    "Y= np.array ([42, 90, 71, 47, 56, 43, 137, 63, 28, 60, 87, 69, 50])  \n",
    "Произошли ли изменения на расходы и лечение?  \n",
    "В задачнике есть таблицы."
   ]
  },
  {
   "cell_type": "code",
   "execution_count": 1,
   "metadata": {},
   "outputs": [
    {
     "name": "stderr",
     "output_type": "stream",
     "text": [
      "c:\\Program Files\\Python311\\Lib\\site-packages\\scipy\\stats\\_morestats.py:4088: UserWarning: Exact p-value calculation does not work if there are zeros. Switching to normal approximation.\n",
      "  warnings.warn(\"Exact p-value calculation does not work if there are \"\n"
     ]
    },
    {
     "data": {
      "text/plain": [
       "WilcoxonResult(statistic=3.0, pvalue=0.004741768038406971)"
      ]
     },
     "execution_count": 1,
     "metadata": {},
     "output_type": "execute_result"
    }
   ],
   "source": [
    "import numpy as np\n",
    "from scipy import stats\n",
    "X = np.array([20, 17, 14, 42, 50, 62, 8, 49, 81, 54, 48, 55, 56])\n",
    "Y = np.array([20, 26, 1, 24, 1, 47, 15, 7, 65, 9, 21, 36, 30])\n",
    "stats.wilcoxon(X, Y)"
   ]
  },
  {
   "cell_type": "code",
   "execution_count": 2,
   "metadata": {},
   "outputs": [
    {
     "data": {
      "text/plain": [
       "WilcoxonResult(statistic=31.5, pvalue=0.339599609375)"
      ]
     },
     "execution_count": 2,
     "metadata": {},
     "output_type": "execute_result"
    }
   ],
   "source": [
    "X = np.array([32, 41, 51, 29, 76, 47, 60, 58, 40, 64, 73, 66, 73])\n",
    "Y = np.array([42, 90, 71, 47, 56, 43, 137, 63, 28, 60, 87, 69, 50])\n",
    "stats.wilcoxon(X, Y)"
   ]
  },
  {
   "cell_type": "markdown",
   "metadata": {},
   "source": [
    "4. При исследовании препарата для снижения кровяного давления у больных 3 раза измерялся сердечный выброс. Менялся ли сердечный выброс? Найти критерий вручную, проверьте значение функцией и интерпретируйте результат с использованием p-value  \n",
    "A=np.array([3.5, 3.3, 4.9, 3.6])  \n",
    "B=np.array([8.6, 5.4, 8.8, 5.6])  \n",
    "C=np.array([5.1, 8.6, 7.7, 5.0])  \n",
    "В задачнике таблица и формулы."
   ]
  },
  {
   "cell_type": "code",
   "execution_count": 3,
   "metadata": {},
   "outputs": [
    {
     "data": {
      "text/plain": [
       "FriedmanchisquareResult(statistic=6.5, pvalue=0.03877420783172202)"
      ]
     },
     "execution_count": 3,
     "metadata": {},
     "output_type": "execute_result"
    }
   ],
   "source": [
    "A=np.array([3.5, 3.3, 4.9, 3.6])  \n",
    "B=np.array([8.6, 5.4, 8.8, 5.6])  \n",
    "C=np.array([5.1, 8.6, 7.7, 5.0])  \n",
    "stats.friedmanchisquare(A, B, C) # 5%, p-value <  5%, различия есть"
   ]
  },
  {
   "cell_type": "markdown",
   "metadata": {},
   "source": [
    "5. Даны значения проницаемости сосудов сетчатки gr1 (здоровые пациенты), gr 2 ( поражение в области центральной \n",
    "ямки), gr3 (в области центральной ямки и на периферии).  \n",
    "Сравнить данные, относящиеся к разным видам поражения.  \n",
    "gr1 =([0.5, 0.7, 1, 1.2, 1.4])  \n",
    "gr2 = ([1.3, 1.45, 1.6, 1.7, 1.8])  \n",
    "gr3 = ([6.2, 12.6, 13.2, 14.1, 14.2])"
   ]
  },
  {
   "cell_type": "code",
   "execution_count": 4,
   "metadata": {},
   "outputs": [
    {
     "data": {
      "text/plain": [
       "KruskalResult(statistic=12.02000000000001, pvalue=0.002454088180413905)"
      ]
     },
     "execution_count": 4,
     "metadata": {},
     "output_type": "execute_result"
    }
   ],
   "source": [
    "gr1 = ([0.5, 0.7, 1, 1.2, 1.4])\n",
    "gr2 = ([1.3, 1.45, 1.6, 1.7, 1.8])\n",
    "gr3 = ([6.2, 12.6, 13.2, 14.1, 14.2])\n",
    "stats.kruskal(gr1, gr2, gr3) # p-value < alpha, принимаем альтернативную гипотезу, различия есть"
   ]
  }
 ],
 "metadata": {
  "kernelspec": {
   "display_name": "Python 3.11.2 64-bit",
   "language": "python",
   "name": "python3"
  },
  "language_info": {
   "codemirror_mode": {
    "name": "ipython",
    "version": 3
   },
   "file_extension": ".py",
   "mimetype": "text/x-python",
   "name": "python",
   "nbconvert_exporter": "python",
   "pygments_lexer": "ipython3",
   "version": "3.11.2"
  },
  "orig_nbformat": 4,
  "vscode": {
   "interpreter": {
    "hash": "5238573367df39f7286bb46f9ff5f08f63a01a80960060ce41e3c79b190280fa"
   }
  }
 },
 "nbformat": 4,
 "nbformat_minor": 2
}
