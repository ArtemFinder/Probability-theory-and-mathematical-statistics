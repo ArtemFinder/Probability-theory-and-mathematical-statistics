{
 "cells": [
  {
   "cell_type": "markdown",
   "metadata": {},
   "source": [
    "1. На препарате А положительный результат лечения наблюдается у 17 из 32 пациентов, а \n",
    "на препарате В у 9 из 22. Построить 95% доверительный интервал для разности долей.\n",
    "Обнаружены ли статистически значимые различия?"
   ]
  },
  {
   "cell_type": "code",
   "execution_count": 1,
   "metadata": {},
   "outputs": [
    {
     "name": "stdout",
     "output_type": "stream",
     "text": [
      "-0.14906644200780345 0.3933846238259852\n"
     ]
    }
   ],
   "source": [
    "from scipy import stats\n",
    "m1 = 17\n",
    "m2 = 9 \n",
    "n1 = 32\n",
    "n2 = 22\n",
    "p1 = m1 / n1\n",
    "p2 = m2 / n2\n",
    "delta = p1 - p2\n",
    "P = (m1 + m2) / (n1 + n2)\n",
    "se = (P * (1 - P) * (1 / n1 + 1 / n2)) ** 0.5\n",
    "z_95 = stats.norm.ppf(0.975)\n",
    "print(delta - z_95 * se, delta + z_95 * se)"
   ]
  },
  {
   "cell_type": "markdown",
   "metadata": {},
   "source": [
    "Статистически значимых различий нет."
   ]
  },
  {
   "cell_type": "markdown",
   "metadata": {},
   "source": [
    "2. Решить задачу 1 через тестирование гипотезы.\n",
    "На препарате А положительный результат лечения наблюдается у 17 из 32 пациентов, а \n",
    "на препарате В у 9 из 22. Являются ли различия статистически значимые между долями \n",
    "пациентов с положительным эффектом в этих двух группах.\n",
    "Уровень статистической значимости принять за 0.05"
   ]
  },
  {
   "cell_type": "code",
   "execution_count": 2,
   "metadata": {},
   "outputs": [
    {
     "data": {
      "text/plain": [
       "1.959963984540054"
      ]
     },
     "execution_count": 2,
     "metadata": {},
     "output_type": "execute_result"
    }
   ],
   "source": [
    "z_95 = stats.norm.ppf(0.975)\n",
    "z_95"
   ]
  },
  {
   "cell_type": "markdown",
   "metadata": {},
   "source": [
    "3. Было проведено исследование научных статей на количество авторов в разные годы. \n",
    "Построить 90% и 95% интервалы. Таблица в задачнике."
   ]
  },
  {
   "cell_type": "code",
   "execution_count": 5,
   "metadata": {},
   "outputs": [
    {
     "name": "stdout",
     "output_type": "stream",
     "text": [
      "1.8114366123376808 2.188563387662319\n",
      "1.774884346453975 2.225115653546025\n"
     ]
    }
   ],
   "source": [
    "x = 2\n",
    "n = 151\n",
    "s = 1.4\n",
    "se = s / n ** 0.5\n",
    "t_90 = stats.t.ppf(0.95, n - 1)\n",
    "t_95 = stats.t.ppf(0.975, n - 1)\n",
    "print(x - t_90 * se, x + t_90 * se)\n",
    "print(x - t_95 * se, x + t_95 * se)"
   ]
  },
  {
   "cell_type": "markdown",
   "metadata": {},
   "source": [
    "4. С помощью 90% доверительного интервала оценить средний вес нормально \n",
    "распределенной популяции, если дисперсия генеральной совокупности 3.6, а среднее \n",
    "арифметичекое по выборке объемом 100 получилось равным 71.2."
   ]
  },
  {
   "cell_type": "code",
   "execution_count": 8,
   "metadata": {},
   "outputs": [
    {
     "name": "stdout",
     "output_type": "stream",
     "text": [
      "70.88791096727466 71.51208903272534\n"
     ]
    }
   ],
   "source": [
    "x = 71.2\n",
    "D = 3.6\n",
    "n = 100\n",
    "se = (D / n) ** 0.5\n",
    "z_90 = stats.norm.ppf(0.95)\n",
    "print(x - z_90 * se, x + z_90 * se)"
   ]
  },
  {
   "cell_type": "markdown",
   "metadata": {},
   "source": [
    "5. Найдите 95% доверительные интервалы для долей больных, которые не чувствовали боли \n",
    "при включенном и выключенном приборе. Можно ли по этим интервалам оценить \n",
    "статистическую значимость различий? Таблица и график в задачнике."
   ]
  },
  {
   "cell_type": "code",
   "execution_count": 9,
   "metadata": {},
   "outputs": [
    {
     "name": "stdout",
     "output_type": "stream",
     "text": [
      "0.6568644685026275 0.9431355314973726\n"
     ]
    }
   ],
   "source": [
    "m1 = 24\n",
    "n1 = 30\n",
    "p1 = m1 / n1\n",
    "se = (p1 * (1 - p1) / n1) ** 0.5\n",
    "z_95 = stats.norm.ppf(0.975)\n",
    "print(p1 - z_95 * se, p1 + z_95 * se)"
   ]
  },
  {
   "cell_type": "markdown",
   "metadata": {},
   "source": [
    "6. Даны две группы студентов. В каждой по 21 человеку. Первая группа прошла недельную \n",
    "подготовку для сдачи тестов, другая группа приступила к тестам без подготовки.\n",
    "В 1й группе среднее время прохождения теста целиком требует 1.8 ч, во второй 2.3 ч. \n",
    "Постройте 95% интервал для разности средних арифметических, если известно, что \n",
    "стандартное отклонение 1 группы составило 0.4 ч, во 2й группе -0.6ч"
   ]
  },
  {
   "cell_type": "code",
   "execution_count": 11,
   "metadata": {},
   "outputs": [
    {
     "name": "stdout",
     "output_type": "stream",
     "text": [
      "-0.8180347215208597 -0.18196527847913985\n"
     ]
    }
   ],
   "source": [
    "x1 = 1.8\n",
    "x2 = 2.3\n",
    "s1 = 0.4\n",
    "s2 = 0.6\n",
    "delta = x1 - x2\n",
    "D = (s1 ** 2 + s2 **2) / 2\n",
    "n1 = n2 = 21\n",
    "se = (D/n1 + D/n1) ** 0.5\n",
    "t_95 = stats.t.ppf(0.975, n1 + n2 -2)\n",
    "print(delta - t_95 * se, delta + t_95 * se)"
   ]
  },
  {
   "cell_type": "markdown",
   "metadata": {},
   "source": [
    "Есть статистическая значимая разница"
   ]
  }
 ],
 "metadata": {
  "kernelspec": {
   "display_name": "Python 3.11.2 64-bit",
   "language": "python",
   "name": "python3"
  },
  "language_info": {
   "codemirror_mode": {
    "name": "ipython",
    "version": 3
   },
   "file_extension": ".py",
   "mimetype": "text/x-python",
   "name": "python",
   "nbconvert_exporter": "python",
   "pygments_lexer": "ipython3",
   "version": "3.11.2"
  },
  "orig_nbformat": 4,
  "vscode": {
   "interpreter": {
    "hash": "5238573367df39f7286bb46f9ff5f08f63a01a80960060ce41e3c79b190280fa"
   }
  }
 },
 "nbformat": 4,
 "nbformat_minor": 2
}
