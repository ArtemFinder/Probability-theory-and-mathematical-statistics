{
 "cells": [
  {
   "cell_type": "markdown",
   "metadata": {},
   "source": [
    "Вероятность события А в каждом независимом испытании 0.0015. Какова вероятность \n",
    "того, что при 2000 испытаниях событие А появится 3 раза."
   ]
  },
  {
   "cell_type": "code",
   "execution_count": 1,
   "metadata": {},
   "outputs": [
    {
     "data": {
      "text/plain": [
       "0.22411150732949875"
      ]
     },
     "execution_count": 1,
     "metadata": {},
     "output_type": "execute_result"
    }
   ],
   "source": [
    "from math import factorial\n",
    "def comb(n, k):\n",
    "    return factorial(n) / (factorial(n - k) * factorial(k))\n",
    "def bernuli(n, p, k):\n",
    "    return comb(n, k) * p ** k * (1 - p) ** (n - k)\n",
    "n = 2000\n",
    "k = 3\n",
    "p = 0.0015\n",
    "l = n * p\n",
    "P = l ** k / factorial(k) * 2.718 ** (-l)  # формула Пуассона\n",
    "P\n"
   ]
  },
  {
   "cell_type": "code",
   "execution_count": 2,
   "metadata": {},
   "outputs": [
    {
     "data": {
      "text/plain": [
       "0.2242100142488562"
      ]
     },
     "execution_count": 2,
     "metadata": {},
     "output_type": "execute_result"
    }
   ],
   "source": [
    "P = bernuli(n, p, k)  # формула Бернулли\n",
    "P\n"
   ]
  },
  {
   "cell_type": "markdown",
   "metadata": {},
   "source": [
    "Найдите математическое ожидание случайной велечины Х, распределенной по биномиальному закону с параметрами n=100, p=0.3"
   ]
  },
  {
   "cell_type": "code",
   "execution_count": 3,
   "metadata": {},
   "outputs": [
    {
     "data": {
      "text/plain": [
       "3.4641016151377544"
      ]
     },
     "execution_count": 3,
     "metadata": {},
     "output_type": "execute_result"
    }
   ],
   "source": [
    "# ско - среднее квадратичное отклонение, корень из дисперсии\n",
    "n = 50\n",
    "p = 0.6\n",
    "q = 1 - p\n",
    "D = n * p * q\n",
    "s = D ** 0.5\n",
    "s\n"
   ]
  },
  {
   "cell_type": "markdown",
   "metadata": {},
   "source": [
    "Число Ко, которому при заданном n соответствует максимальная биномиальная вероятность Pn(Ko), называется наивероятнейшим числом появления события А. При заданных n и p это число лпределяется неравенствами.\n",
    "см. формулу в задачах к семинару.\n",
    "Если число np+p не является целым числом, то Ko равно целой части этого значения.\n"
   ]
  },
  {
   "cell_type": "markdown",
   "metadata": {},
   "source": [
    "Какова вероятность наступления события b в каждом отдельном испытании, если наивероятнейшее число наступления события b в 120 испытаниях составило 32."
   ]
  },
  {
   "cell_type": "code",
   "execution_count": null,
   "metadata": {},
   "outputs": [],
   "source": []
  },
  {
   "cell_type": "markdown",
   "metadata": {},
   "source": [
    "Подбрасывают 4 одинаковые монеты. Какова вероятность, что решка выпадет \n",
    "не более 1 раза. Формула в задачах к семинару."
   ]
  },
  {
   "cell_type": "code",
   "execution_count": 4,
   "metadata": {},
   "outputs": [
    {
     "data": {
      "text/plain": [
       "0.3125"
      ]
     },
     "execution_count": 4,
     "metadata": {},
     "output_type": "execute_result"
    }
   ],
   "source": [
    "p_0 = bernuli(4, 0.5, 0)  #вероятность что решка выпадет 0 раз\n",
    "p_1 = bernuli(4, 0.5, 1)  # вероятность что решка выпадет 1 раз\n",
    "P = p_0 + p_1  # вероятность что решка выпадет 0 раз или 1 раз(не более 1)\n",
    "P\n"
   ]
  },
  {
   "cell_type": "markdown",
   "metadata": {},
   "source": [
    "Найти вероятность, что среди взятых наугад 5 деталей 2 стандартные, если \n",
    "вероятность детали быть стандартной равна 0.9"
   ]
  },
  {
   "cell_type": "code",
   "execution_count": 5,
   "metadata": {},
   "outputs": [
    {
     "data": {
      "text/plain": [
       "0.008099999999999996"
      ]
     },
     "execution_count": 5,
     "metadata": {},
     "output_type": "execute_result"
    }
   ],
   "source": [
    "n = 5\n",
    "k = 2\n",
    "p = 0.9\n",
    "P = bernuli(n, p, k)\n",
    "P\n"
   ]
  }
 ],
 "metadata": {
  "kernelspec": {
   "display_name": "Python 3.11.2 64-bit",
   "language": "python",
   "name": "python3"
  },
  "language_info": {
   "codemirror_mode": {
    "name": "ipython",
    "version": 3
   },
   "file_extension": ".py",
   "mimetype": "text/x-python",
   "name": "python",
   "nbconvert_exporter": "python",
   "pygments_lexer": "ipython3",
   "version": "3.11.2"
  },
  "orig_nbformat": 4,
  "vscode": {
   "interpreter": {
    "hash": "5238573367df39f7286bb46f9ff5f08f63a01a80960060ce41e3c79b190280fa"
   }
  }
 },
 "nbformat": 4,
 "nbformat_minor": 2
}
