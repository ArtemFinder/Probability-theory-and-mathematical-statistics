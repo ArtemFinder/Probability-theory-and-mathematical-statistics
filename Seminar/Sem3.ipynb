{
 "cells": [
  {
   "cell_type": "markdown",
   "metadata": {},
   "source": [
    "Найти среднее арифметическое для выборки: \n",
    "77, 79, 67, 95, 87, 91, 98, 100, 104, 105\n",
    "Найти медиану\n",
    "Найти интерквартильное расстояние. "
   ]
  },
  {
   "cell_type": "code",
   "execution_count": 3,
   "metadata": {},
   "outputs": [
    {
     "data": {
      "text/plain": [
       "90.3"
      ]
     },
     "execution_count": 3,
     "metadata": {},
     "output_type": "execute_result"
    }
   ],
   "source": [
    "import numpy as np\n",
    "import seaborn as sns\n",
    "from matplotlib import pyplot as plt\n",
    "x = np.array([77, 79, 67, 95, 87, 91, 98, 100, 104, 105])\n",
    "a = np.mean(x)  # считаем среднее\n",
    "a"
   ]
  },
  {
   "cell_type": "code",
   "execution_count": 4,
   "metadata": {},
   "outputs": [
    {
     "data": {
      "text/plain": [
       "79.0"
      ]
     },
     "execution_count": 4,
     "metadata": {},
     "output_type": "execute_result"
    }
   ],
   "source": [
    "a_25 = np.percentile(x, 25, method='hazen')\n",
    "a_25"
   ]
  },
  {
   "cell_type": "code",
   "execution_count": 5,
   "metadata": {},
   "outputs": [
    {
     "data": {
      "text/plain": [
       "100.0"
      ]
     },
     "execution_count": 5,
     "metadata": {},
     "output_type": "execute_result"
    }
   ],
   "source": [
    "a_75 = np.percentile(x, 75, method='hazen')\n",
    "a_75"
   ]
  },
  {
   "cell_type": "code",
   "execution_count": 6,
   "metadata": {},
   "outputs": [
    {
     "data": {
      "text/plain": [
       "21.0"
      ]
     },
     "execution_count": 6,
     "metadata": {},
     "output_type": "execute_result"
    }
   ],
   "source": [
    "a_75 - a_25"
   ]
  },
  {
   "cell_type": "code",
   "execution_count": 7,
   "metadata": {},
   "outputs": [
    {
     "data": {
      "image/png": "[encoded data removed]",
      "text/plain": [
       "<Figure size 600x600 with 1 Axes>"
      ]
     },
     "metadata": {},
     "output_type": "display_data"
    }
   ],
   "source": [
    "plt.figure(figsize=(6, 6))\n",
    "sns.boxplot(data=x)\n",
    "plt.xticks([0], ['зарплаты'])\n",
    "plt.show()"
   ]
  },
  {
   "cell_type": "markdown",
   "metadata": {},
   "source": [
    "Задачи на повторение. 3 из задач к семинару.\n",
    "<img src=\"task3.jpg\"/>"
   ]
  },
  {
   "cell_type": "code",
   "execution_count": 8,
   "metadata": {},
   "outputs": [
    {
     "data": {
      "text/plain": [
       "0.0185"
      ]
     },
     "execution_count": 8,
     "metadata": {},
     "output_type": "execute_result"
    }
   ],
   "source": [
    "p_1 = 0.25\n",
    "p_2 = 0.35\n",
    "p_3 = 0.4\n",
    "q_1 = 0.03\n",
    "q_2 = 0.02\n",
    "q_3 = 0.01\n",
    "P = p_1 * q_1 + p_2 * q_2 + p_3 * q_3\n",
    "P"
   ]
  },
  {
   "cell_type": "markdown",
   "metadata": {},
   "source": [
    "Задача 4: в урне a красных и b голубых шаров, одинаковых по размеру и весу. Чему \n",
    "равна вероятность того, что наудачу извлеченный шар из этой урны окажется \n",
    "голубым? Записать ответ в виде буквенного выражения."
   ]
  },
  {
   "cell_type": "code",
   "execution_count": null,
   "metadata": {},
   "outputs": [],
   "source": []
  },
  {
   "cell_type": "markdown",
   "metadata": {},
   "source": [
    "Задача2: Партия деталей изготовлена тремя рабочими, причем первый изготовил 35% \n",
    "всех деталей, второй – 40% всех деталей, третий – всю остальную продукцию. Брак в их \n",
    "продукции составляет: у первого -2%, у второго - 3%, у третьего – 4%. Случайно \n",
    "выбранная для контроля деталь оказалась бракованной. Найти вероятность того, что она \n",
    "изготовлена третьим рабочим. "
   ]
  },
  {
   "cell_type": "code",
   "execution_count": 9,
   "metadata": {},
   "outputs": [
    {
     "data": {
      "text/plain": [
       "0.3448275862068966"
      ]
     },
     "execution_count": 9,
     "metadata": {},
     "output_type": "execute_result"
    }
   ],
   "source": [
    "p_1 = 0.35\n",
    "p_2 = 0.4\n",
    "p_3 = 1 - p_2 - p_1  # p_b - вероятность третьего рабочего\n",
    "q_1 = 0.02\n",
    "q_2 = 0.03\n",
    "q_3 = 0.04  # p_ab - вероятность брака третьего рабочего\n",
    "p_a = p_1 * q_1 + p_2 * q_2 + p_3 * q_3  # вероятность брака\n",
    "P = p_3 * q_3 / p_a\n",
    "P"
   ]
  },
  {
   "cell_type": "markdown",
   "metadata": {},
   "source": [
    "Задача 3: В ящике 15 шаров, из которых 5 голубы и 10 красных. Из ящика \n",
    "последовательно вынимают 2 шара; первый шар в ящик не возвращают. Найти \n",
    "вероятность, что первый вытащенный шар - красный , а второй – голубой."
   ]
  },
  {
   "cell_type": "code",
   "execution_count": 1,
   "metadata": {},
   "outputs": [
    {
     "data": {
      "text/plain": [
       "0.23809523809523808"
      ]
     },
     "execution_count": 1,
     "metadata": {},
     "output_type": "execute_result"
    }
   ],
   "source": [
    "p_1 = 10 / 15\n",
    "p_2 = 5 / 14\n",
    "p_1 * p_2"
   ]
  },
  {
   "cell_type": "markdown",
   "metadata": {},
   "source": [
    "Задача 4.Известно, что в принятой для сборки партии из 1000 деталей имеются 4 \n",
    "дефектных. Найдите вероятность, что среди 50 случайно взятых деталей нет дефектных."
   ]
  },
  {
   "cell_type": "code",
   "execution_count": 6,
   "metadata": {},
   "outputs": [
    {
     "data": {
      "text/plain": [
       "0.8187477311542807"
      ]
     },
     "execution_count": 6,
     "metadata": {},
     "output_type": "execute_result"
    }
   ],
   "source": [
    "from math import factorial\n",
    "def combinations(n, k):\n",
    "    return int(factorial(n) / (factorial(n - k) * factorial(k)))\n",
    "n = 50\n",
    "p = 0.004\n",
    "l = p*n\n",
    "P = 2.718 ** (-l)\n",
    "P"
   ]
  },
  {
   "cell_type": "code",
   "execution_count": 7,
   "metadata": {},
   "outputs": [
    {
     "data": {
      "text/plain": [
       "0.8184024506760997"
      ]
     },
     "execution_count": 7,
     "metadata": {},
     "output_type": "execute_result"
    }
   ],
   "source": [
    "#  через бернули\n",
    "k = 0\n",
    "P = combinations(n, k) * p ** k * (1 - p) ** (n - k)\n",
    "P"
   ]
  }
 ],
 "metadata": {
  "kernelspec": {
   "display_name": "Python 3.11.2 64-bit",
   "language": "python",
   "name": "python3"
  },
  "language_info": {
   "codemirror_mode": {
    "name": "ipython",
    "version": 3
   },
   "file_extension": ".py",
   "mimetype": "text/x-python",
   "name": "python",
   "nbconvert_exporter": "python",
   "pygments_lexer": "ipython3",
   "version": "3.11.2"
  },
  "orig_nbformat": 4,
  "vscode": {
   "interpreter": {
    "hash": "5238573367df39f7286bb46f9ff5f08f63a01a80960060ce41e3c79b190280fa"
   }
  }
 },
 "nbformat": 4,
 "nbformat_minor": 2
}
