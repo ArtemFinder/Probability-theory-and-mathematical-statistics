{
 "cells": [
  {
   "cell_type": "markdown",
   "metadata": {},
   "source": [
    "В партии 10 деталей. Среди них 3 бракованные. Какова вероятность, что среди 5 взятых на удачу, 4 хорошие детали? \n",
    "Берем 5 наудачу из 10, порядок не важен (общие исходы)"
   ]
  },
  {
   "cell_type": "code",
   "execution_count": null,
   "metadata": {},
   "outputs": [],
   "source": [
    "from math import factorial\n",
    "def combinations(n, k):\n",
    "    return factorial(n) / (factorial(n - k) * factorial(k))\n",
    "# В партии 10 деталей. Среди них 3 бракованные. Какова вероятность, что среди 5 ,взятых на удачу, 4 хорошие детали?\n",
    "# берем 5 наудачу из 10, порядок не важен(общие исходы)\n",
    "# 4 хорошие + 1 бракованная, 4 хорошие берем из 7, 1 бракованная из 3\n",
    "n = combinations(10, 3)\n",
    "m = combinations(7, 4) * combinations(3, 1)\n",
    "P = m / n\n",
    "P\n"
   ]
  },
  {
   "cell_type": "code",
   "execution_count": 3,
   "metadata": {},
   "outputs": [
    {
     "data": {
      "text/plain": [
       "0.979020979020979"
      ]
     },
     "execution_count": 3,
     "metadata": {},
     "output_type": "execute_result"
    }
   ],
   "source": [
    "# P(B / A) = P(A / B) * P(B) / P(A), B - письмо является спамом, А - встречается фраза\n",
    "# P(A / B) = вероятность того, что встречается фраза в спаме 10%\n",
    "# Р(В) = вероятность того, что спам 70%\n",
    "# Р(А) = вероятность того, что фраза(70% * 10% + 30% * 0,5%)\n",
    "P_AB = 0.1\n",
    "P_B = 0.7\n",
    "P_A = 0.7 * 0.1 + 0.3 * 0.005\n",
    "P_BA = P_AB * P_B / P_A\n",
    "P_BA\n"
   ]
  },
  {
   "cell_type": "code",
   "execution_count": 4,
   "metadata": {},
   "outputs": [
    {
     "data": {
      "text/plain": [
       "0.09287925696594428"
      ]
     },
     "execution_count": 4,
     "metadata": {},
     "output_type": "execute_result"
    }
   ],
   "source": [
    "# В ящике находятся 10 красных, 5 черных, 5 зеленых шаров. Наудачу вынимают 6 шаров. Какова вероятность что вынуты 3 красных, 2 черных, 1 зеленый?\n",
    "# Общие исходы - это любые 6 шаров из 20 в ящике.\n",
    "# благоприятные - это 3 красных из 10, 2 черных из 5, 1 зеленый из 5\n",
    "m = combinations(10, 3) * combinations(5, 2) * combinations(3, 1)\n",
    "n = combinations(20, 6)\n",
    "P = m / n\n",
    "P\n"
   ]
  },
  {
   "cell_type": "code",
   "execution_count": 5,
   "metadata": {},
   "outputs": [
    {
     "data": {
      "text/plain": [
       "0.008333333333333333"
      ]
     },
     "execution_count": 5,
     "metadata": {},
     "output_type": "execute_result"
    }
   ],
   "source": [
    "m = 1  # единственный вариант получить слово ЧАЙКИ - благоприятный исход\n",
    "n = factorial(5)  # количество способов получить слово из 5 карточек\n",
    "P = m / n  # вероятность\n",
    "P\n"
   ]
  }
 ],
 "metadata": {
  "kernelspec": {
   "display_name": "Python 3.11.2 64-bit",
   "language": "python",
   "name": "python3"
  },
  "language_info": {
   "codemirror_mode": {
    "name": "ipython",
    "version": 3
   },
   "file_extension": ".py",
   "mimetype": "text/x-python",
   "name": "python",
   "nbconvert_exporter": "python",
   "pygments_lexer": "ipython3",
   "version": "3.11.2"
  },
  "orig_nbformat": 4,
  "vscode": {
   "interpreter": {
    "hash": "5238573367df39f7286bb46f9ff5f08f63a01a80960060ce41e3c79b190280fa"
   }
  }
 },
 "nbformat": 4,
 "nbformat_minor": 2
}
